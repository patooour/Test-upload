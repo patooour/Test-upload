{
 "cells": [
  {
   "cell_type": "markdown",
   "id": "7223b195",
   "metadata": {},
   "source": [
    "# Task 1\n",
    "\n",
    "## remove element that occour more than one time\n"
   ]
  },
  {
   "cell_type": "code",
   "execution_count": null,
   "id": "56c75f0a",
   "metadata": {},
   "outputs": [],
   "source": [
    "x = [ 1,1,2,3,4,5,1,6,7,1,1,658646464,True,\"ali\",1,[1,2,3] ]"
   ]
  },
  {
   "cell_type": "code",
   "execution_count": null,
   "id": "48464990",
   "metadata": {},
   "outputs": [],
   "source": [
    "y = int(input(\"enter your num you want to remove: \"))\n",
    "\n",
    "for i in x:\n",
    "      \n",
    "    if (i == y):\n",
    "        x.remove(i)\n",
    "    else :\n",
    "        print(i)"
   ]
  },
  {
   "cell_type": "markdown",
   "id": "eb28deab",
   "metadata": {},
   "source": [
    "# Task 2\n",
    "## print ascii code for any character"
   ]
  },
  {
   "cell_type": "code",
   "execution_count": null,
   "id": "a7319cb3",
   "metadata": {},
   "outputs": [],
   "source": [
    "char = input(\"enter char:\")\n",
    "\n",
    "print(\"The ASCII value of \" +  char + \" is\", ord(char))"
   ]
  },
  {
   "cell_type": "markdown",
   "id": "6f440170",
   "metadata": {},
   "source": [
    "# Task 3 \n",
    "\n",
    "## operation in numbers"
   ]
  },
  {
   "cell_type": "code",
   "execution_count": null,
   "id": "eb712187",
   "metadata": {},
   "outputs": [],
   "source": [
    "firstNum = int(input(\"enter first num: \"))\n",
    "SecondNum = int(input(\"enter second num: \"))\n",
    "\n",
    "operate = input(\"enter your operate: + or - or * or / \")\n",
    "\n",
    "if(operate == \"+\"):\n",
    "    print(firstNum + SecondNum)\n",
    "elif(operate == \"-\"):    \n",
    "    print(firstNum - SecondNum)\n",
    "elif(operate == \"*\"):    \n",
    "    print(firstNum * SecondNum)\n",
    "elif(operate == \"/\"):\n",
    "    print(firstNum / SecondNum)\n",
    "    \n",
    "else:\n",
    "    print(\"try again\")\n",
    "    "
   ]
  }
 ],
 "metadata": {
  "kernelspec": {
   "display_name": "Python 3",
   "language": "python",
   "name": "python3"
  },
  "language_info": {
   "codemirror_mode": {
    "name": "ipython",
    "version": 3
   },
   "file_extension": ".py",
   "mimetype": "text/x-python",
   "name": "python",
   "nbconvert_exporter": "python",
   "pygments_lexer": "ipython3",
   "version": "3.8.8"
  }
 },
 "nbformat": 4,
 "nbformat_minor": 5
}
