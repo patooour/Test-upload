{
 "cells": [
  {
   "cell_type": "markdown",
   "id": "5353509f",
   "metadata": {},
   "source": [
    "## implment unordered set using list"
   ]
  },
  {
   "cell_type": "code",
   "execution_count": 65,
   "id": "c40737bd",
   "metadata": {
    "ExecuteTime": {
     "end_time": "2021-08-05T09:07:41.939842Z",
     "start_time": "2021-08-05T09:07:41.918860Z"
    }
   },
   "outputs": [],
   "source": [
    "setList = []"
   ]
  },
  {
   "cell_type": "code",
   "execution_count": 68,
   "id": "a6499424",
   "metadata": {
    "ExecuteTime": {
     "end_time": "2021-08-05T09:07:54.255736Z",
     "start_time": "2021-08-05T09:07:54.234754Z"
    }
   },
   "outputs": [],
   "source": [
    "def addToSetlist(element):\n",
    "    for i in setList:\n",
    "        if(i == element):\n",
    "            setList.remove(i)\n",
    "       \n",
    "    setList.append(element)\n",
    "    "
   ]
  },
  {
   "cell_type": "code",
   "execution_count": 69,
   "id": "f79dd2e2",
   "metadata": {
    "ExecuteTime": {
     "end_time": "2021-08-05T09:07:56.774755Z",
     "start_time": "2021-08-05T09:07:56.761769Z"
    }
   },
   "outputs": [],
   "source": [
    "addToSetlist(10)\n",
    "addToSetlist(1)\n",
    "addToSetlist(1)\n",
    "addToSetlist(1)\n",
    "addToSetlist(7)\n",
    "addToSetlist(5)\n",
    "addToSetlist(10)\n",
    "addToSetlist(7)"
   ]
  },
  {
   "cell_type": "code",
   "execution_count": 70,
   "id": "980f285e",
   "metadata": {
    "ExecuteTime": {
     "end_time": "2021-08-05T09:08:01.754246Z",
     "start_time": "2021-08-05T09:08:01.723740Z"
    }
   },
   "outputs": [
    {
     "data": {
      "text/plain": [
       "[1, 5, 10, 7]"
      ]
     },
     "execution_count": 70,
     "metadata": {},
     "output_type": "execute_result"
    }
   ],
   "source": [
    "setList"
   ]
  },
  {
   "cell_type": "code",
   "execution_count": 32,
   "id": "4e256a8b",
   "metadata": {
    "ExecuteTime": {
     "end_time": "2021-08-05T09:01:47.088647Z",
     "start_time": "2021-08-05T09:01:47.069668Z"
    }
   },
   "outputs": [],
   "source": []
  },
  {
   "cell_type": "code",
   "execution_count": null,
   "id": "f3a50ee9",
   "metadata": {},
   "outputs": [],
   "source": []
  }
 ],
 "metadata": {
  "kernelspec": {
   "display_name": "Python 3",
   "language": "python",
   "name": "python3"
  },
  "language_info": {
   "codemirror_mode": {
    "name": "ipython",
    "version": 3
   },
   "file_extension": ".py",
   "mimetype": "text/x-python",
   "name": "python",
   "nbconvert_exporter": "python",
   "pygments_lexer": "ipython3",
   "version": "3.8.8"
  }
 },
 "nbformat": 4,
 "nbformat_minor": 5
}
